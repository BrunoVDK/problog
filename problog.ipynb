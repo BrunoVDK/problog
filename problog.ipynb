{
  "nbformat": 4,
  "nbformat_minor": 0,
  "metadata": {
    "colab": {
      "name": "problog.ipynb",
      "provenance": [],
      "toc_visible": true,
      "authorship_tag": "ABX9TyMnhWo+BSm8O+0e30A/SQ6w",
      "include_colab_link": true
    },
    "kernelspec": {
      "name": "python3",
      "display_name": "Python 3"
    }
  },
  "cells": [
    {
      "cell_type": "markdown",
      "metadata": {
        "id": "view-in-github",
        "colab_type": "text"
      },
      "source": [
        "<a href=\"https://colab.research.google.com/github/BrunoVandekerkhove/problog/blob/master/problog.ipynb\" target=\"_parent\"><img src=\"https://colab.research.google.com/assets/colab-badge.svg\" alt=\"Open In Colab\"/></a>"
      ]
    },
    {
      "cell_type": "code",
      "metadata": {
        "id": "X7GJRGYYmMqw",
        "colab_type": "code",
        "colab": {}
      },
      "source": [
        ""
      ],
      "execution_count": 0,
      "outputs": []
    },
    {
      "cell_type": "markdown",
      "metadata": {
        "id": "K455IxwWlkWE",
        "colab_type": "text"
      },
      "source": [
        "### Probabilistic Inference using WMC"
      ]
    },
    {
      "cell_type": "markdown",
      "metadata": {
        "id": "BVg54KywltqG",
        "colab_type": "text"
      },
      "source": [
        "#### SRL to CNF"
      ]
    },
    {
      "cell_type": "code",
      "metadata": {
        "id": "GIwhptjRlipi",
        "colab_type": "code",
        "colab": {}
      },
      "source": [
        ""
      ],
      "execution_count": 0,
      "outputs": []
    },
    {
      "cell_type": "markdown",
      "metadata": {
        "id": "MJA372Wrl1uB",
        "colab_type": "text"
      },
      "source": [
        "#### SRL to PGM"
      ]
    },
    {
      "cell_type": "code",
      "metadata": {
        "id": "0UKZcOlBl5gA",
        "colab_type": "code",
        "colab": {}
      },
      "source": [
        ""
      ],
      "execution_count": 0,
      "outputs": []
    },
    {
      "cell_type": "markdown",
      "metadata": {
        "id": "DQ03-Z4Cl6Az",
        "colab_type": "text"
      },
      "source": [
        "#### PGM to CNF"
      ]
    },
    {
      "cell_type": "code",
      "metadata": {
        "id": "fYW9CHRlmImH",
        "colab_type": "code",
        "colab": {}
      },
      "source": [
        ""
      ],
      "execution_count": 0,
      "outputs": []
    },
    {
      "cell_type": "markdown",
      "metadata": {
        "id": "EyjpANzamI4T",
        "colab_type": "text"
      },
      "source": [
        "#### Weighted Model Counting"
      ]
    },
    {
      "cell_type": "code",
      "metadata": {
        "id": "80P0V2ZAmLCy",
        "colab_type": "code",
        "colab": {}
      },
      "source": [
        ""
      ],
      "execution_count": 0,
      "outputs": []
    },
    {
      "cell_type": "markdown",
      "metadata": {
        "id": "aCUNCxNEmf2t",
        "colab_type": "text"
      },
      "source": [
        "### Lifted Inference"
      ]
    },
    {
      "cell_type": "code",
      "metadata": {
        "id": "OSX55Q_pmhyR",
        "colab_type": "code",
        "colab": {}
      },
      "source": [
        ""
      ],
      "execution_count": 0,
      "outputs": []
    },
    {
      "cell_type": "markdown",
      "metadata": {
        "id": "FXy9nlD5mh6g",
        "colab_type": "text"
      },
      "source": [
        "### Parameter Learning"
      ]
    },
    {
      "cell_type": "code",
      "metadata": {
        "id": "Mo2T83y_mk09",
        "colab_type": "code",
        "colab": {}
      },
      "source": [
        ""
      ],
      "execution_count": 0,
      "outputs": []
    }
  ]
}